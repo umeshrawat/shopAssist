{
  "metadata": {
    "kernelspec": {
      "name": "",
      "display_name": ""
    },
    "language_info": {
      "name": ""
    },
    "colab": {
      "provenance": []
    }
  },
  "nbformat_minor": 5,
  "nbformat": 4,
  "cells": [
    {
      "id": "834a5add",
      "cell_type": "markdown",
      "source": [
        "# Retrieval-Augmented Shopping Assistant - EDA\n",
        "\n",
        "This notebook explores the ABO dataset for initial insights."
      ],
      "metadata": {
        "id": "834a5add"
      }
    },
    {
      "id": "af13cef5",
      "cell_type": "code",
      "source": [
        "import pandas as pd\n",
        "import json\n",
        "import zipfile"
      ],
      "metadata": {
        "trusted": true,
        "id": "af13cef5"
      },
      "outputs": [],
      "execution_count": 3
    },
    {
      "id": "018b2cd4",
      "cell_type": "code",
      "source": [
        "# Path to your zip file\n",
        "zip_path = '/content/sample_data/ABO_Data.zip'\n",
        "\n",
        "# Open the zip file\n",
        "with zipfile.ZipFile(zip_path, 'r') as zip_ref:\n",
        "    # List all files inside the zip\n",
        "    print(\"Files in the zip:\")\n",
        "    print(zip_ref.namelist())\n",
        "    metadata_files = [f for f in zip_ref.namelist() if f.endswith('.json')]\n",
        "    for file_name in metadata_files:\n",
        "          print(f\"Reading file: {file_name}\")\n"
      ],
      "metadata": {
        "id": "018b2cd4",
        "outputId": "77b5605f-b16d-4b19-d44a-dcf1b9034740",
        "colab": {
          "base_uri": "https://localhost:8080/"
        }
      },
      "outputs": [
        {
          "output_type": "stream",
          "name": "stdout",
          "text": [
            "Files in the zip:\n",
            "['LICENSE-CC-BY-4.0.txt', 'listings/README.md', 'listings/metadata/listings_0.json', 'listings/metadata/listings_1.json', 'listings/metadata/listings_2.json', 'listings/metadata/listings_3.json', 'listings/metadata/listings_4.json', 'listings/metadata/listings_5.json', 'listings/metadata/listings_6.json', 'listings/metadata/listings_7.json', 'listings/metadata/listings_8.json', 'listings/metadata/listings_9.json', 'listings/metadata/listings_a.json', 'listings/metadata/listings_b.json', 'listings/metadata/listings_c.json', 'listings/metadata/listings_d.json', 'listings/metadata/listings_e.json', 'listings/metadata/listings_f.json']\n",
            "Reading file: listings/metadata/listings_0.json\n",
            "Reading file: listings/metadata/listings_1.json\n",
            "Reading file: listings/metadata/listings_2.json\n",
            "Reading file: listings/metadata/listings_3.json\n",
            "Reading file: listings/metadata/listings_4.json\n",
            "Reading file: listings/metadata/listings_5.json\n",
            "Reading file: listings/metadata/listings_6.json\n",
            "Reading file: listings/metadata/listings_7.json\n",
            "Reading file: listings/metadata/listings_8.json\n",
            "Reading file: listings/metadata/listings_9.json\n",
            "Reading file: listings/metadata/listings_a.json\n",
            "Reading file: listings/metadata/listings_b.json\n",
            "Reading file: listings/metadata/listings_c.json\n",
            "Reading file: listings/metadata/listings_d.json\n",
            "Reading file: listings/metadata/listings_e.json\n",
            "Reading file: listings/metadata/listings_f.json\n"
          ]
        }
      ],
      "execution_count": 8
    },
    {
      "id": "6688610b",
      "cell_type": "code",
      "source": [
        "# Preview\n",
        "df.head()"
      ],
      "metadata": {
        "id": "6688610b"
      },
      "outputs": [],
      "execution_count": null
    }
  ]
}