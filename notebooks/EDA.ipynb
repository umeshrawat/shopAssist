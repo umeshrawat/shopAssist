import pandas as pd

df = pd.read_json("../data/abo_dataset.json")

df.head()
