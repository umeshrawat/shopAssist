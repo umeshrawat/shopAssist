{
 "cells": [
  {
   "cell_type": "markdown",
   "id": "834a5add",
   "metadata": {},
   "source": [
    "# Retrieval-Augmented Shopping Assistant - EDA\n",
    "\n",
    "This notebook explores the ABO dataset for initial insights."
   ]
  },
  {
   "cell_type": "code",
   "execution_count": null,
   "id": "af13cef5",
   "metadata": {
    "trusted": true,
    "vscode": {
     "languageId": "python"
    }
   },
   "outputs": [],
   "source": [
    "import pandas as pd\n",
    "import json\n",
    "import zipfile"
   ]
  },
  {
   "cell_type": "code",
   "execution_count": null,
   "id": "018b2cd4",
   "metadata": {
    "vscode": {
     "languageId": "python"
    }
   },
   "outputs": [],
   "source": [
    "# Path to your zip file\n",
    "zip_path = '/content/sample_data/listings.zip'\n",
    "\n",
    "# Open the zip file\n",
    "with zipfile.ZipFile(zip_path, 'r') as zip_ref:\n",
    "    # List all files inside the zip\n",
    "    zip_ref.extractall('/content/sample_data/')"
   ]
  },
  {
   "cell_type": "code",
   "execution_count": null,
   "id": "6688610b",
   "metadata": {
    "vscode": {
     "languageId": "python"
    }
   },
   "outputs": [],
   "source": [
    "# Preview\n",
    "import json\n",
    "import pandas as pd\n",
    "def load_json_from_folder(file_name):\n",
    "  valid_data=[]\n",
    "\n",
    "  # Load your JSON (string or from a file)\n",
    "  with open(file_name, 'r', encoding='utf-8') as f:\n",
    "    for line in f:\n",
    "      try:\n",
    "        data = json.loads(line)\n",
    "        valid_data.append(data)\n",
    "      except json.JSONDecodeError as e:\n",
    "        print(f\"Error decoding JSON: {e}\")\n",
    "  return valid_data"
   ]
  },
  {
   "cell_type": "code",
   "execution_count": null,
   "id": "e23600a8",
   "metadata": {
    "vscode": {
     "languageId": "python"
    }
   },
   "outputs": [],
   "source": [
    "import os\n",
    "json_file_path = '/content/sample_data/listings/metadata'\n",
    "extracted_data=[]\n",
    "for filename in os.listdir(json_file_path):\n",
    "  if filename.endswith('.json'):\n",
    "    file_path = os.path.join(json_file_path, filename)\n",
    "    valid_data=load_json_from_folder(file_path)\n",
    "    extracted_data.append(valid_data)"
   ]
  },
  {
   "cell_type": "code",
   "execution_count": null,
   "id": "bb58a2c4",
   "metadata": {
    "vscode": {
     "languageId": "python"
    }
   },
   "outputs": [],
   "source": [
    "def remove_language_tag(obj):\n",
    "    \"\"\"Recursively remove 'language_tag' keys from nested dicts and lists.\"\"\"\n",
    "    if isinstance(obj, dict):\n",
    "        return {k: remove_language_tag(v) for k, v in obj.items() if k != \"language_tag\"}\n",
    "    elif isinstance(obj, list):\n",
    "        return [remove_language_tag(item) for item in obj]\n",
    "    else:\n",
    "        return obj"
   ]
  },
  {
   "cell_type": "code",
   "execution_count": null,
   "id": "b3c0862e",
   "metadata": {
    "vscode": {
     "languageId": "python"
    }
   },
   "outputs": [],
   "source": [
    "cleaned_data = []\n",
    "# with open(\"/content/sample_data/listings_1.json\", \"r\", encoding=\"utf-8\") as f:\n",
    "for line in extracted_data:\n",
    "    # data = json.loads(line)\n",
    "    cleaned = remove_language_tag(line)\n",
    "    cleaned_data.append(cleaned)\n",
    "cleaned_data[0]"
   ]
  },
  {
   "cell_type": "code",
   "execution_count": null,
   "id": "625666d9",
   "metadata": {
    "vscode": {
     "languageId": "python"
    }
   },
   "outputs": [],
   "source": [
    "def flatten_record(record):\n",
    "    flat = {}\n",
    "    for key, value in record.items():\n",
    "        if isinstance(value, list) and all(isinstance(v, dict) and \"value\" in v for v in value):\n",
    "            # Join multiple values with comma\n",
    "            flat[key] = \", \".join(str(v[\"value\"]) for v in value)\n",
    "        else:\n",
    "            flat[key] = value\n",
    "    return flat"
   ]
  },
  {
   "cell_type": "code",
   "execution_count": null,
   "id": "505bcee8",
   "metadata": {
    "vscode": {
     "languageId": "python"
    }
   },
   "outputs": [],
   "source": [
    "flattened = [flatten_record(rec) for rec in cleaned_data if isinstance(rec, dict)]\n",
    "\n",
    "# Convert to DataFrame\n",
    "df = pd.DataFrame(flattened)\n",
    "df.to_csv('sample_data/shopAssist_Ori.csv', index=False)\n",
    "df.iloc[:, 25:]"
   ]
  },
  {
   "cell_type": "code",
   "execution_count": null,
   "id": "46167c8b",
   "metadata": {
    "vscode": {
     "languageId": "python"
    }
   },
   "outputs": [],
   "source": [
    "df.drop(columns=['item_id','model_number','main_image_id','other_image_id', 'domain_name', 'model_year','spin_id','3dmodel_id','finish_type','pattern'],inplace=True)"
   ]
  },
  {
   "cell_type": "code",
   "execution_count": null,
   "id": "bbd40685",
   "metadata": {
    "vscode": {
     "languageId": "python"
    }
   },
   "outputs": [],
   "source": [
    "df.fillna(0,inplace=True)"
   ]
  },
  {
   "cell_type": "code",
   "execution_count": null,
   "id": "f37f6b46",
   "metadata": {
    "vscode": {
     "languageId": "python"
    }
   },
   "outputs": [],
   "source": [
    "from re import S\n",
    "import faiss\n",
    "import numpy as np\n",
    "from sentence_transformers import SentenceTransformer\n",
    "\n",
    "#store df into csv file\n",
    "df.to_csv('sample_data/shopAssist.csv', index=False)\n",
    "#read file from sample_data\n",
    "df_file = pd.read_csv('sample_data/shopAssist.csv')\n",
    "#combined all the columns into one\n",
    "df['combined'] = df_file.apply(lambda x: ' '.join(x.astype(str)), axis=1)\n",
    "print (df['combined'][0])"
   ]
  },
  {
   "cell_type": "code",
   "execution_count": null,
   "id": "2f12edc6",
   "metadata": {
    "vscode": {
     "languageId": "python"
    }
   },
   "outputs": [],
   "source": [
    "dimension = embeddings.shape[1]\n",
    "index = faiss.IndexFlatL2(dimension)\n",
    "index.add(embeddings)"
   ]
  },
  {
   "cell_type": "code",
   "execution_count": null,
   "id": "8fdbc14a",
   "metadata": {
    "vscode": {
     "languageId": "python"
    }
   },
   "outputs": [],
   "source": [
    "def search(query, top_k=2):\n",
    "    query_vector = model.encode([query])\n",
    "    distances, indices = index.search(query_vector, top_k)\n",
    "    df = pd.read_csv('sample_data/shopAssist_Ori.csv')\n",
    "    return df.iloc[indices[0]]"
   ]
  },
  {
   "cell_type": "code",
   "execution_count": null,
   "id": "1decf054",
   "metadata": {
    "vscode": {
     "languageId": "python"
    }
   },
   "outputs": [],
   "source": [
    "result_df = search(\"Sterling Silver\")\n",
    "images_df = pd.read_csv('sample_data/images.csv')\n",
    "image_id = result_df['main_image_id'].tolist()\n",
    "# image_mapping = images_df.set_index('image_id')['path'].to_dict()\n",
    "image_mapping = images_df[images_df['image_id'].isin(image_id)]['path'].tolist()\n",
    "for i, (idx,row) in enumerate(result_df.iterrows()):\n",
    "    result_df['main_image_id'] = \"sample_data/\"+ image_mapping[i]\n",
    "result_df\n",
    "#Map each image_id to its path and prepend \"sample_data/\"\n",
    "# result_df['main_image_id'] = result_df['main_image_id'].map(lambda x: f\"sample_data/{image_mapping.get(x)}\")\n",
    "# result_df['main_image_id']"
   ]
  },
  {
   "cell_type": "code",
   "execution_count": null,
   "id": "d75ddbcd",
   "metadata": {
    "vscode": {
     "languageId": "python"
    }
   },
   "outputs": [],
   "source": [
    "import matplotlib.pyplot as plt\n",
    "import matplotlib.image as mpimg\n",
    "for url in image_mapping:\n",
    "  print(url)\n",
    "  image_path = \"sample_data/\"+url\n",
    "  img = mpimg.imread(image_path)\n",
    "  plt.imshow(img)\n",
    "  plt.axis('off')\n",
    "  plt.show()"
   ]
  },
  {
   "cell_type": "code",
   "execution_count": null,
   "id": "fe9d1605",
   "metadata": {
    "vscode": {
     "languageId": "python"
    }
   },
   "outputs": [],
   "source": [
    "result_df.to_json(orient='records').replace(\"\\'\", \"'\")"
   ]
  }
 ],
 "metadata": {
  "kernelspec": {
   "display_name": "",
   "name": ""
  },
  "language_info": {
   "name": ""
  }
 },
 "nbformat": 4,
 "nbformat_minor": 5
}
