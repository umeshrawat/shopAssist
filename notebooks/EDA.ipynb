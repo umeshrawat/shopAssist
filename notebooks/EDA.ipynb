{
 "cells": [
  {
   "cell_type": "markdown",
   "id": "834a5add",
   "metadata": {},
   "source": [
    "# Retrieval-Augmented Shopping Assistant - EDA\n",
    "\n",
    "This notebook explores the ABO dataset for initial insights."
   ]
  },
  {
   "cell_type": "code",
   "execution_count": null,
   "id": "af13cef5",
   "metadata": {},
   "outputs": [],
   "source": [
    "import pandas as pd"
   ]
  },
  {
   "cell_type": "code",
   "execution_count": null,
   "id": "018b2cd4",
   "metadata": {},
   "outputs": [],
   "source": [
    "# Load ABO dataset (adjust path as needed)\n",
    "df = pd.read_json(\"../data/abo_dataset.json\")  # or csv if applicable"
   ]
  },
  {
   "cell_type": "code",
   "execution_count": null,
   "id": "6688610b",
   "metadata": {},
   "outputs": [],
   "source": [
    "# Preview\n",
    "df.head()"
   ]
  }
 ],
 "metadata": {},
 "nbformat": 4,
 "nbformat_minor": 5
}
